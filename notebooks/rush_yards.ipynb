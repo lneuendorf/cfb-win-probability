{
 "cells": [
  {
   "cell_type": "code",
   "execution_count": 1,
   "id": "086158ac",
   "metadata": {},
   "outputs": [],
   "source": [
    "import json\n",
    "import re\n",
    "from os.path import join\n",
    "import os\n",
    "\n",
    "import pandas as pd\n",
    "import numpy as np\n",
    "from tqdm import tqdm\n",
    "import xgboost as xgb\n",
    "import matplotlib.pyplot as plt\n",
    "import seaborn as sns\n",
    "from sklearn.model_selection import train_test_split\n",
    "import optuna\n",
    "from sklearn.metrics import mean_absolute_error\n",
    "import shap\n",
    "from sklearn.metrics import log_loss\n",
    "from sklearn.metrics import precision_recall_curve, auc\n",
    "import cfbd\n",
    "\n",
    "pd.set_option('display.max_columns', None)\n",
    "pd.set_option('display.max_rows', None)\n",
    "\n",
    "with open('../config.json') as f:\n",
    "    configuration = cfbd.Configuration(\n",
    "        access_token = json.load(f)['CFBD_API_KEY']\n",
    "    )"
   ]
  },
  {
   "cell_type": "code",
   "execution_count": 2,
   "id": "9c780a7a",
   "metadata": {},
   "outputs": [],
   "source": [
    "YEARS = range(2013, 2025)\n",
    "DATA_DIR = '../data'"
   ]
  },
  {
   "cell_type": "code",
   "execution_count": 3,
   "id": "c9892712",
   "metadata": {},
   "outputs": [],
   "source": [
    "def convert_to_snake_case(cols):\n",
    "    cols_new = []\n",
    "    for c in cols:\n",
    "        s1 = re.sub('(.)([A-Z][a-z]+)', r'\\1_\\2', c)\n",
    "        cols_new.append(re.sub('([a-z0-9])([A-Z])', r'\\1_\\2', s1).lower())\n",
    "    return cols_new"
   ]
  },
  {
   "cell_type": "markdown",
   "id": "21a43bb3",
   "metadata": {},
   "source": [
    "# NOTE: use the advanced rushing stats"
   ]
  },
  {
   "cell_type": "code",
   "execution_count": 4,
   "id": "ccf000b6",
   "metadata": {},
   "outputs": [
    {
     "name": "stdout",
     "output_type": "stream",
     "text": [
      "{\n",
      "  \"passingPlays\": {\n",
      "    \"explosiveness\": 1.3828717946760372,\n",
      "    \"successRate\": 0.37037037037037035,\n",
      "    \"totalPPA\": 4.025595832919332,\n",
      "    \"ppa\": 0.14909614195997523\n",
      "  },\n",
      "  \"rushingPlays\": {\n",
      "    \"explosiveness\": 0.5885187332090218,\n",
      "    \"successRate\": 0.38235294117647056,\n",
      "    \"totalPPA\": -1.9341798213541586,\n",
      "    \"ppa\": -0.056887641804534074\n",
      "  },\n",
      "  \"passingDowns\": {\n",
      "    \"explosiveness\": 2.5592718260550753,\n",
      "    \"successRate\": 0.21052631578947367,\n",
      "    \"ppa\": 0.337070738054116\n",
      "  },\n",
      "  \"standardDowns\": {\n",
      "    \"explosiveness\": 0.5917039039082818,\n",
      "    \"successRate\": 0.4523809523809524,\n",
      "    \"ppa\": -0.10268876217769124\n",
      "  },\n",
      "  \"openFieldYardsTotal\": 50,\n",
      "  \"openFieldYards\": 1.4705882352941175,\n",
      "  \"secondLevelYardsTotal\": 25,\n",
      "  \"secondLevelYards\": 0.7352941176470589,\n",
      "  \"lineYardsTotal\": 87,\n",
      "  \"lineYards\": 2.5647058823529414,\n",
      "  \"stuffRate\": 0.2647058823529412,\n",
      "  \"powerSuccess\": 0.4,\n",
      "  \"explosiveness\": 0.9338896294990284,\n",
      "  \"successRate\": 0.3770491803278688,\n",
      "  \"totalPPA\": 2.091416011565173,\n",
      "  \"ppa\": 0.034285508386314306,\n",
      "  \"drives\": 13,\n",
      "  \"plays\": 61\n",
      "}\n"
     ]
    }
   ],
   "source": [
    "with cfbd.ApiClient(configuration) as api_client:\n",
    "    api_instance = cfbd.StatsApi(api_client)\n",
    "    data = api_instance.get_advanced_game_stats(year=2013, week=1)\n",
    "tmp = pd.DataFrame([val.to_dict() for val in data])\n",
    "tmp.columns = convert_to_snake_case(tmp.columns)\n",
    "\n",
    "import json; print(json.dumps(tmp.offense.values[0], indent=2))"
   ]
  },
  {
   "cell_type": "code",
   "execution_count": null,
   "id": "b4b22b09",
   "metadata": {},
   "outputs": [],
   "source": []
  }
 ],
 "metadata": {
  "kernelspec": {
   "display_name": "wp_sim",
   "language": "python",
   "name": "python3"
  },
  "language_info": {
   "codemirror_mode": {
    "name": "ipython",
    "version": 3
   },
   "file_extension": ".py",
   "mimetype": "text/x-python",
   "name": "python",
   "nbconvert_exporter": "python",
   "pygments_lexer": "ipython3",
   "version": "3.11.0"
  }
 },
 "nbformat": 4,
 "nbformat_minor": 5
}
